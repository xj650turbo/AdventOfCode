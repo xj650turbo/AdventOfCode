{
 "cells": [
  {
   "cell_type": "code",
   "execution_count": null,
   "id": "d2e89742",
   "metadata": {},
   "outputs": [],
   "source": [
    "#playing with iterators\n",
    "from itertools import product\n",
    "from itertools import combinations\n",
    "from itertools import permutations\n",
    "\n",
    "rng = range(1,5)\n",
    "\n",
    "cartesian = product(rng, repeat=2)\n",
    "combs = combinations(rng, r=2)\n",
    "perms = permutations(rng, r=2)\n",
    "\n",
    "print(\"Cartesian\")\n",
    "for item in cartesian:\n",
    "    print(item)\n",
    "\n",
    "print(\"Combs\")\n",
    "for item in combs:\n",
    "    print(item)\n",
    "\n",
    "print(\"Perms\")\n",
    "for item in perms:\n",
    "    print(item)"
   ]
  },
  {
   "cell_type": "code",
   "execution_count": 15,
   "id": "1da2d3ff",
   "metadata": {},
   "outputs": [
    {
     "name": "stdout",
     "output_type": "stream",
     "text": [
      "                    1 1 1 1 1\n",
      "0 1 2 3 4 5 6 7 8 9 0 1 2 3 4\n",
      "______________________________\n",
      "\u001b[97m# \u001b[0m\u001b[97m# \u001b[0m\u001b[97m# \u001b[0m\u001b[97m# \u001b[0m\u001b[97m# \u001b[0m\u001b[97m# \u001b[0m\u001b[97m# \u001b[0m\u001b[97m# \u001b[0m\u001b[97m# \u001b[0m\u001b[97m# \u001b[0m\u001b[97m# \u001b[0m\u001b[97m# \u001b[0m\u001b[97m# \u001b[0m\u001b[97m# \u001b[0m\u001b[97m# \u001b[0m|0\n",
      "\u001b[97m# \u001b[0m\u001b[90m. \u001b[0m\u001b[90m. \u001b[0m\u001b[90m. \u001b[0m\u001b[97m# \u001b[0m\u001b[90m. \u001b[0m\u001b[90m. \u001b[0m\u001b[90m. \u001b[0m\u001b[97m# \u001b[0m\u001b[90m. \u001b[0m\u001b[90m. \u001b[0m\u001b[90m. \u001b[0m\u001b[90m. \u001b[0m\u001b[90m. \u001b[0m\u001b[97m# \u001b[0m|1\n",
      "\u001b[97m# \u001b[0m\u001b[90m. \u001b[0m\u001b[97m# \u001b[0m\u001b[90m. \u001b[0m\u001b[97m# \u001b[0m\u001b[90m. \u001b[0m\u001b[97m# \u001b[0m\u001b[90m. \u001b[0m\u001b[97m# \u001b[0m\u001b[90m. \u001b[0m\u001b[97m# \u001b[0m\u001b[97m# \u001b[0m\u001b[97m# \u001b[0m\u001b[90m. \u001b[0m\u001b[97m# \u001b[0m|2\n",
      "\u001b[97m# \u001b[0m\u001b[91m* \u001b[0m\u001b[97m# \u001b[0m\u001b[90m. \u001b[0m\u001b[90m. \u001b[0m\u001b[90m. \u001b[0m\u001b[97m# \u001b[0m\u001b[90m. \u001b[0m\u001b[97m# \u001b[0m\u001b[90m. \u001b[0m\u001b[97m# \u001b[0m\u001b[90m. \u001b[0m\u001b[90m. \u001b[0m\u001b[90m. \u001b[0m\u001b[97m# \u001b[0m|3\n",
      "\u001b[97m# \u001b[0m\u001b[91m* \u001b[0m\u001b[97m# \u001b[0m\u001b[91m* \u001b[0m\u001b[97m# \u001b[0m\u001b[97m# \u001b[0m\u001b[97m# \u001b[0m\u001b[90m. \u001b[0m\u001b[97m# \u001b[0m\u001b[90m. \u001b[0m\u001b[97m# \u001b[0m\u001b[90m. \u001b[0m\u001b[97m# \u001b[0m\u001b[97m# \u001b[0m\u001b[97m# \u001b[0m|4\n",
      "\u001b[97m# \u001b[0m\u001b[91m* \u001b[0m\u001b[97m# \u001b[0m\u001b[91m* \u001b[0m\u001b[97m# \u001b[0m\u001b[91m* \u001b[0m\u001b[97m# \u001b[0m\u001b[90m. \u001b[0m\u001b[97m# \u001b[0m\u001b[90m. \u001b[0m\u001b[97m# \u001b[0m\u001b[90m. \u001b[0m\u001b[90m. \u001b[0m\u001b[90m. \u001b[0m\u001b[97m# \u001b[0m|5\n",
      "\u001b[97m# \u001b[0m\u001b[91m* \u001b[0m\u001b[97m# \u001b[0m\u001b[91m* \u001b[0m\u001b[97m# \u001b[0m\u001b[91m* \u001b[0m\u001b[97m# \u001b[0m\u001b[91m* \u001b[0m\u001b[97m# \u001b[0m\u001b[90m. \u001b[0m\u001b[97m# \u001b[0m\u001b[97m# \u001b[0m\u001b[97m# \u001b[0m\u001b[90m. \u001b[0m\u001b[97m# \u001b[0m|6\n",
      "\u001b[97m# \u001b[0m\u001b[91m* \u001b[0m\u001b[97m# \u001b[0m\u001b[91m* \u001b[0m\u001b[90m. \u001b[0m\u001b[91m* \u001b[0m\u001b[97m# \u001b[0m\u001b[91m* \u001b[0m\u001b[90m. \u001b[0m\u001b[91m* \u001b[0m\u001b[97m# \u001b[0m\u001b[90m. \u001b[0m\u001b[90m. \u001b[0m\u001b[90m. \u001b[0m\u001b[97m# \u001b[0m|7\n",
      "\u001b[97m# \u001b[0m\u001b[97m# \u001b[0m\u001b[97m# \u001b[0m\u001b[90m. \u001b[0m\u001b[97m# \u001b[0m\u001b[97m# \u001b[0m\u001b[97m# \u001b[0m\u001b[97m# \u001b[0m\u001b[97m# \u001b[0m\u001b[97m# \u001b[0m\u001b[97m# \u001b[0m\u001b[90m. \u001b[0m\u001b[97m# \u001b[0m\u001b[97m# \u001b[0m\u001b[97m# \u001b[0m|8\n",
      "\u001b[97m# \u001b[0m\u001b[90m. \u001b[0m\u001b[90m. \u001b[0m\u001b[90m. \u001b[0m\u001b[97m# \u001b[0m\u001b[97m# \u001b[0m\u001b[97m# \u001b[0m\u001b[90m. \u001b[0m\u001b[90m. \u001b[0m\u001b[90m. \u001b[0m\u001b[97m# \u001b[0m\u001b[90m. \u001b[0m\u001b[90m. \u001b[0m\u001b[90m. \u001b[0m\u001b[97m# \u001b[0m|9\n",
      "\u001b[97m# \u001b[0m\u001b[90m. \u001b[0m\u001b[97m# \u001b[0m\u001b[97m# \u001b[0m\u001b[97m# \u001b[0m\u001b[97m# \u001b[0m\u001b[97m# \u001b[0m\u001b[90m. \u001b[0m\u001b[97m# \u001b[0m\u001b[90m. \u001b[0m\u001b[97m# \u001b[0m\u001b[97m# \u001b[0m\u001b[97m# \u001b[0m\u001b[90m. \u001b[0m\u001b[97m# \u001b[0m|10\n",
      "\u001b[97m# \u001b[0m\u001b[90m. \u001b[0m\u001b[97m# \u001b[0m\u001b[90m. \u001b[0m\u001b[90m. \u001b[0m\u001b[90m. \u001b[0m\u001b[97m# \u001b[0m\u001b[90m. \u001b[0m\u001b[97m# \u001b[0m\u001b[90m. \u001b[0m\u001b[97m# \u001b[0m\u001b[90m. \u001b[0m\u001b[90m. \u001b[0m\u001b[90m. \u001b[0m\u001b[97m# \u001b[0m|11\n",
      "\u001b[97m# \u001b[0m\u001b[90m. \u001b[0m\u001b[97m# \u001b[0m\u001b[90m. \u001b[0m\u001b[97m# \u001b[0m\u001b[90m. \u001b[0m\u001b[97m# \u001b[0m\u001b[90m. \u001b[0m\u001b[97m# \u001b[0m\u001b[90m. \u001b[0m\u001b[97m# \u001b[0m\u001b[90m. \u001b[0m\u001b[97m# \u001b[0m\u001b[97m# \u001b[0m\u001b[97m# \u001b[0m|12\n",
      "\u001b[97m# \u001b[0m\u001b[90m. \u001b[0m\u001b[90m. \u001b[0m\u001b[90m. \u001b[0m\u001b[97m# \u001b[0m\u001b[90m. \u001b[0m\u001b[90m. \u001b[0m\u001b[90m. \u001b[0m\u001b[97m# \u001b[0m\u001b[90m. \u001b[0m\u001b[90m. \u001b[0m\u001b[90m. \u001b[0m\u001b[97m# \u001b[0m\u001b[97m# \u001b[0m\u001b[97m# \u001b[0m|13\n",
      "\u001b[97m# \u001b[0m\u001b[97m# \u001b[0m\u001b[97m# \u001b[0m\u001b[97m# \u001b[0m\u001b[97m# \u001b[0m\u001b[97m# \u001b[0m\u001b[97m# \u001b[0m\u001b[97m# \u001b[0m\u001b[97m# \u001b[0m\u001b[97m# \u001b[0m\u001b[97m# \u001b[0m\u001b[97m# \u001b[0m\u001b[97m# \u001b[0m\u001b[97m# \u001b[0m\u001b[97m# \u001b[0m|14\n",
      "\n"
     ]
    }
   ],
   "source": [
    "#project possible moves of maxN along a path given a move-mask\n",
    "\n",
    "import time\n",
    "import numpy as np\n",
    "\n",
    "# imports from my own zutils\n",
    "from zutils.BaseMap import BaseMap\n",
    "from zutils.Moves import Moves\n",
    "from zutils.ColorConsole import ColorCodes, colorString, clearOutput\n",
    "from zutils.Graph import Graph\n",
    "import time\n",
    "\n",
    "baseMap = BaseMap()\n",
    "baseMap.colorMap  = {\n",
    "    \".\": ColorCodes.Grey,\n",
    "    \"*\": ColorCodes.Red}\n",
    "baseMap.createFromFile('input/Day20-mini.txt')\n",
    "baseMap.currPos = baseMap.getIndicesOf('E')[0]\n",
    "\n",
    "graph = Graph()\n",
    "graph.buildGraphFromMap(baseMap, Moves(), 'S', 'E', ['#'])\n",
    "leastCostAndPaths = graph.dzikstraAllLeastCostPaths(graph.startNode, graph.endNode)\n",
    "path = leastCostAndPaths[graph.endNode][1][0]\n",
    "\n",
    "# get an area of possible moves up to N moves based on a move-mask \n",
    "aeraMoves = Moves()\n",
    "upToNMoves = 4\n",
    "aeraMoves.setMoves([\n",
    "    [1, 0, 0],\n",
    "    [1, 0, 1],\n",
    "    [0, 0, 0]])\n",
    "area = aeraMoves.getMovesOf(upToNMoves)\n",
    "\n",
    "for node in path:\n",
    "    clearOutput(wait=True)\n",
    "    currPos = node[0]\n",
    "    baseMap.currPos = currPos\n",
    "    newPositions = aeraMoves.moveByMultiple(currPos, area)\n",
    "    print(baseMap.overlayPath(newPositions))\n",
    "    time.sleep(.1)"
   ]
  },
  {
   "cell_type": "code",
   "execution_count": null,
   "id": "05028738",
   "metadata": {},
   "outputs": [],
   "source": [
    "# define custom cort criteria, by length descending then alphanumeric ascending\n",
    "def sortCriteria(item):\n",
    "    return -len(item), item\n",
    "\n",
    "arr = ['as', 'a', 'b', 'asdf']\n",
    "arr.sort(key=sortCriteria)\n",
    "print(arr)"
   ]
  },
  {
   "cell_type": "code",
   "execution_count": null,
   "id": "e2e8ba52",
   "metadata": {},
   "outputs": [],
   "source": []
  }
 ],
 "metadata": {
  "kernelspec": {
   "display_name": "Python 3",
   "language": "python",
   "name": "python3"
  },
  "language_info": {
   "codemirror_mode": {
    "name": "ipython",
    "version": 3
   },
   "file_extension": ".py",
   "mimetype": "text/x-python",
   "name": "python",
   "nbconvert_exporter": "python",
   "pygments_lexer": "ipython3",
   "version": "3.11.9"
  }
 },
 "nbformat": 4,
 "nbformat_minor": 5
}
